{
 "cells": [
  {
   "cell_type": "code",
   "execution_count": null,
   "metadata": {},
   "outputs": [],
   "source": [
    "from ultralytics import YOLO\n",
    "import cv2"
   ]
  },
  {
   "cell_type": "markdown",
   "metadata": {},
   "source": [
    "# Train"
   ]
  },
  {
   "cell_type": "code",
   "execution_count": null,
   "metadata": {},
   "outputs": [],
   "source": [
    "model = YOLO(\"runs/detect/train18/weights/best.pt\")\n",
    "results = model.train(data=\"C://Users/abyss/Documents/Python/CRAIC/datasets/CRAIC2.0.v2i.yolov8/data.yaml\", epochs=1000, batch=64, imgsz=320)"
   ]
  },
  {
   "cell_type": "markdown",
   "metadata": {},
   "source": [
    "# Predict"
   ]
  },
  {
   "cell_type": "code",
   "execution_count": 3,
   "metadata": {},
   "outputs": [
    {
     "name": "stdout",
     "output_type": "stream",
     "text": [
      "\n",
      "image 1/1 c:\\Users\\abyss\\Documents\\Python\\CRAIC\\datasets\\CRAIC2.0.v2i.yolov8\\valid\\images\\image_20240824_110718_png.rf.2d68686276b0c9399c13944f8e71f8b7.jpg: 256x320 2 oranges, 58.8ms\n",
      "Speed: 1.0ms preprocess, 58.8ms inference, 3.4ms postprocess per image at shape (1, 3, 256, 320)\n"
     ]
    }
   ],
   "source": [
    "model = YOLO(\"runs/detect/train31/weights/best.pt\")\n",
    "model.predict(\"datasets/CRAIC2.0.v2i.yolov8/valid/images/image_20240824_110718_png.rf.2d68686276b0c9399c13944f8e71f8b7.jpg\", imgsz=320, show=True, save=False, conf=0.5, iou=0.6)\n",
    "cv2.waitKey()\n",
    "cv2.destroyAllWindows()"
   ]
  },
  {
   "cell_type": "markdown",
   "metadata": {},
   "source": [
    "# Export"
   ]
  },
  {
   "cell_type": "code",
   "execution_count": 4,
   "metadata": {},
   "outputs": [
    {
     "name": "stdout",
     "output_type": "stream",
     "text": [
      "Ultralytics YOLOv8.2.70  Python-3.11.8 torch-2.4.0+cu124 CPU (13th Gen Intel Core(TM) i5-13500HX)\n",
      "YOLOv8n summary (fused): 168 layers, 353,478 parameters, 0 gradients, 1.4 GFLOPs\n",
      "\n",
      "\u001b[34m\u001b[1mPyTorch:\u001b[0m starting from 'runs\\detect\\train31\\weights\\best.pt' with input shape (1, 3, 320, 320) BCHW and output shape(s) (1, 6, 2100) (0.9 MB)\n",
      "\n",
      "\u001b[34m\u001b[1mONNX:\u001b[0m starting export with onnx 1.15.0 opset 19...\n",
      "\u001b[34m\u001b[1mONNX:\u001b[0m export success  0.6s, saved as 'runs\\detect\\train31\\weights\\best.onnx' (1.4 MB)\n",
      "\n",
      "Export complete (2.6s)\n",
      "Results saved to \u001b[1mC:\\Users\\abyss\\Documents\\Python\\CRAIC\\runs\\detect\\train31\\weights\u001b[0m\n",
      "Predict:         yolo predict task=detect model=runs\\detect\\train31\\weights\\best.onnx imgsz=320  \n",
      "Validate:        yolo val task=detect model=runs\\detect\\train31\\weights\\best.onnx imgsz=320 data=C:\\Users\\abyss\\Documents\\Python\\CRAIC\\datasets\\CRAIC2.0.v2i.yolov8\\data.yaml  \n",
      "Visualize:       https://netron.app\n"
     ]
    },
    {
     "data": {
      "text/plain": [
       "'runs\\\\detect\\\\train31\\\\weights\\\\best.onnx'"
      ]
     },
     "execution_count": 4,
     "metadata": {},
     "output_type": "execute_result"
    }
   ],
   "source": [
    "model = YOLO(\"runs/detect/train31/weights/best.pt\")\n",
    "model.export(format='onnx')"
   ]
  },
  {
   "cell_type": "markdown",
   "metadata": {},
   "source": [
    "# Upload"
   ]
  },
  {
   "cell_type": "code",
   "execution_count": null,
   "metadata": {},
   "outputs": [],
   "source": [
    "import roboflow\n",
    "rf = roboflow.Roboflow(api_key=\"********\")\n",
    "project = rf.workspace().project(\"craic\")\n",
    "version = project.version(4)\n",
    "version.deploy(\"yolov8\", \"runs/detect/train\")\n"
   ]
  },
  {
   "cell_type": "markdown",
   "metadata": {},
   "source": [
    "# Label"
   ]
  },
  {
   "cell_type": "code",
   "execution_count": null,
   "metadata": {},
   "outputs": [],
   "source": [
    "model = YOLO(\"runs/detect/train29/weights/best.pt\")\n",
    "model.predict('chest', save=True, imgsz=640, save_txt=True)"
   ]
  },
  {
   "cell_type": "code",
   "execution_count": null,
   "metadata": {},
   "outputs": [],
   "source": []
  }
 ],
 "metadata": {
  "kernelspec": {
   "display_name": "Python 3",
   "language": "python",
   "name": "python3"
  },
  "language_info": {
   "codemirror_mode": {
    "name": "ipython",
    "version": 3
   },
   "file_extension": ".py",
   "mimetype": "text/x-python",
   "name": "python",
   "nbconvert_exporter": "python",
   "pygments_lexer": "ipython3",
   "version": "3.11.8"
  }
 },
 "nbformat": 4,
 "nbformat_minor": 2
}
