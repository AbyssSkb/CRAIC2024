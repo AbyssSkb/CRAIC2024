{
 "cells": [
  {
   "cell_type": "code",
   "execution_count": 15,
   "metadata": {},
   "outputs": [],
   "source": [
    "import cv2\n",
    "import numpy as np\n",
    "import time\n",
    "\n",
    "net = cv2.dnn.readNet('runs/detect/train18/weights/best.onnx')\n",
    "image = cv2.imread('head/image_20240819_104304.png')"
   ]
  },
  {
   "cell_type": "markdown",
   "metadata": {},
   "source": [
    "## 运行 YOLO 模型并可视化结果"
   ]
  },
  {
   "cell_type": "code",
   "execution_count": 16,
   "metadata": {},
   "outputs": [
    {
     "name": "stdout",
     "output_type": "stream",
     "text": [
      "(2100, 6)\n",
      "time: 0.020028352737426758\n",
      "150 366 204 113 1 0.9031565189361572\n",
      "316 353 144 125 0 0.7293785214424133\n"
     ]
    }
   ],
   "source": [
    "start_time = time.time()\n",
    "\n",
    "# 获取图片的高度和宽度\n",
    "height, width = image.shape[:2]\n",
    "\n",
    "input_size = (320, 320)\n",
    "\n",
    "# 预处理图片\n",
    "blob = cv2.dnn.blobFromImage(image, 1/255.0, input_size, swapRB=True, crop=False)\n",
    "net.setInput(blob)\n",
    "\n",
    "# 推理\n",
    "outputs = net.forward()\n",
    "\n",
    "# 后处理，提取检测结果\n",
    "boxes = []\n",
    "confidences = []\n",
    "class_ids = []\n",
    "\n",
    "outputs = outputs[0].transpose(1, 0)\n",
    "print(outputs.shape)\n",
    "\n",
    "\n",
    "for detection in outputs:\n",
    "    scores = detection[4:]\n",
    "    x, y, w, h = detection[:4]\n",
    "    classId = np.argmax(scores)\n",
    "    confidence = scores[classId]\n",
    "\n",
    "    if confidence > 0.5:\n",
    "        # 计算边界框\n",
    "        x = int((x - w / 2) / input_size[0] * width)\n",
    "        y = int((y - h / 2) / input_size[1] * height)\n",
    "        w = int(w / input_size[0] * width)\n",
    "        h = int(h / input_size[1] * height)\n",
    "\n",
    "        boxes.append([x, y, w, h])\n",
    "        confidences.append(float(confidence))\n",
    "        class_ids.append(classId)\n",
    "\n",
    "end_time = time.time()\n",
    "\n",
    "# 应用非最大抑制 (NMS) 来抑制重叠框\n",
    "indices = cv2.dnn.NMSBoxes(boxes, confidences, 0.5, 0.6)\n",
    "\n",
    "print(f\"time: {end_time - start_time}\")\n",
    "classes = ['green', 'orange']\n",
    "image2 = image.copy()\n",
    "\n",
    "# 画出检测框\n",
    "for i in indices:\n",
    "    box = boxes[i]\n",
    "    x, y, w, h = box[0], box[1], box[2], box[3]\n",
    "\n",
    "    label = f\"{classes[class_ids[i]]}: {confidences[i]:.2f}\"\n",
    "    cv2.rectangle(image, (x, y), (x + w, y + h), (0, 255, 0), 2)\n",
    "    print(x, y, w, h, class_ids[i], confidences[i])\n",
    "    cv2.putText(image, label, (x, y - 10), cv2.FONT_HERSHEY_SIMPLEX, 0.5, (0, 255, 0), 2)\n",
    "\n",
    "# 显示结果图片\n",
    "cv2.imshow('Original Image', image)\n",
    "cv2.waitKey(0)\n",
    "cv2.destroyAllWindows()"
   ]
  },
  {
   "cell_type": "markdown",
   "metadata": {},
   "source": [
    "## 选择距离机器人最近的方块"
   ]
  },
  {
   "cell_type": "code",
   "execution_count": 17,
   "metadata": {},
   "outputs": [],
   "source": [
    "boxes = [boxes[i] for i in indices]\n",
    "dis = [(i, (x + w // 2 - 320) ** 2 + (480 - y - h) ** 2) for i, (x, y, w, h) in enumerate(boxes)]\n",
    "dis_sorted = sorted(dis, key=lambda x: x[1])\n",
    "box_x, box_y, box_w, box_h = boxes[dis_sorted[0][0]]\n",
    "cv2.rectangle(image2, (box_x, box_y), (box_x + box_w, box_y + box_h), (0, 255, 0), 2)\n",
    "cv2.imshow(\"Final Image\", image2)\n",
    "cv2.waitKey(0)\n",
    "cv2.destroyAllWindows()"
   ]
  },
  {
   "cell_type": "markdown",
   "metadata": {},
   "source": [
    "## 检测方块是否成功搬起"
   ]
  },
  {
   "cell_type": "code",
   "execution_count": 18,
   "metadata": {},
   "outputs": [
    {
     "name": "stdout",
     "output_type": "stream",
     "text": [
      "0.6965\n"
     ]
    }
   ],
   "source": [
    "# 不同色块的hsv范围\n",
    "color_range = {\n",
    "    'green': [(45, 40, 60), (51, 255, 255)],\n",
    "    'orange': [(8, 120, 120), (18, 255, 255)]\n",
    "}\n",
    "img = cv2.cvtColor(image, cv2.COLOR_BGR2HSV)\n",
    "mask1 = cv2.inRange(img, color_range['green'][0], color_range['green'][1])\n",
    "mask2 = cv2.inRange(img, color_range['orange'][0], color_range['orange'][1])\n",
    "mask = cv2.bitwise_or(mask1, mask2)\n",
    "mask_opened = cv2.dilate(mask, np.ones((4, 4), np.uint8), iterations=2)\n",
    "mask = np.zeros_like(mask)\n",
    "mask[430:480, 240:440] = mask_opened[430:480, 240:440]\n",
    "ratio = cv2.countNonZero(mask) / 50 / 200\n",
    "print(ratio)\n",
    "cv2.imshow(\"Image\", image)\n",
    "cv2.imshow(\"Mask\", mask_opened)\n",
    "cv2.imshow(\"Mask Crop\", mask)\n",
    "cv2.waitKey(0)\n",
    "cv2.destroyAllWindows()"
   ]
  },
  {
   "cell_type": "code",
   "execution_count": null,
   "metadata": {},
   "outputs": [],
   "source": []
  }
 ],
 "metadata": {
  "kernelspec": {
   "display_name": "Python 3",
   "language": "python",
   "name": "python3"
  },
  "language_info": {
   "codemirror_mode": {
    "name": "ipython",
    "version": 3
   },
   "file_extension": ".py",
   "mimetype": "text/x-python",
   "name": "python",
   "nbconvert_exporter": "python",
   "pygments_lexer": "ipython3",
   "version": "3.11.8"
  }
 },
 "nbformat": 4,
 "nbformat_minor": 2
}
